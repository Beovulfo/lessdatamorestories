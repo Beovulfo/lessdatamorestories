{
 "cells": [
  {
   "cell_type": "markdown",
   "id": "61697152",
   "metadata": {},
   "source": [
    "# Imports"
   ]
  },
  {
   "cell_type": "code",
   "execution_count": null,
   "id": "228eba40",
   "metadata": {},
   "outputs": [],
   "source": [
    "import sys\n",
    "import pandas as pd\n",
    "import matplotlib.pyplot as plt\n",
    "import plotly.express as px\n",
    "import numpy as np\n",
    "import geopandas as gpd\n",
    "import bs4\n",
    "\n",
    "path = '../src/'\n",
    "sys.path.append(path)"
   ]
  },
  {
   "cell_type": "markdown",
   "id": "24d003b1",
   "metadata": {},
   "source": [
    "# Reading the data"
   ]
  },
  {
   "cell_type": "code",
   "execution_count": null,
   "id": "d2c0edea",
   "metadata": {},
   "outputs": [],
   "source": [
    "d_translate = {\n",
    "\"Andalusia\": \"Andalucia\",\n",
    "\"Aragon\": \"Aragon\",\n",
    "\"Asturias\": \"Asturias\",\n",
    "\"Balearic Islands\": \"Baleares\",\n",
    "\"Basque Country\": \"Pais Vasco\",\n",
    "\"Canary Islands\": \"Canarias\",\n",
    "\"Cantabria\": \"Cantabria\",\n",
    "\"Castile and Leon\": \"Castilla-Leon\",\n",
    "\"Castile-La Mancha\": \"Castilla-La Mancha\",\n",
    "\"Catalonia\": \"Cataluña\",\n",
    "\"Ceuta\": \"Ceuta\",\n",
    "\"Comunidad Valenciana\": \"Valencia\",\n",
    "\"Extremadura\": \"Extremadura\",\n",
    "\"Galicia\": \"Galicia\",\n",
    "\"La Rioja\": \"La Rioja\",\n",
    "\"Madrid\": \"Madrid\",\n",
    "\"Melilla\": \"Melilla\",\n",
    "\"Murcia\": \"Murcia\",\n",
    "\"Navarre\": \"Navarra\",\n",
    "}"
   ]
  },
  {
   "cell_type": "code",
   "execution_count": null,
   "id": "6b6889b5-550f-420b-8193-fb689c13b40b",
   "metadata": {},
   "outputs": [],
   "source": [
    "d_sheets = {\n",
    "   \"Table I.B2.1\":\"Mathematics performance\",\n",
    "   \"Table I.B2.2\":\"Reading performance\",\n",
    "   \"Table I.B2.3\":\"Science performance\",\n",
    "}\n",
    "d_data ={}\n",
    "\n",
    "for k,v in d_sheets.items():\n",
    "   df = pd.read_excel('../data/pisa2022-en.xlsx', sheet_name=k, \n",
    "                   nrows=19,\n",
    "                   skiprows=30,\n",
    "                   usecols=\"A,B,D\")\n",
    "   measure = f'mean_{v.split(\" \")[0].lower()}'\n",
    "   std = f'std_{v.split(\" \")[0].lower()}'\n",
    "\n",
    "   df.columns=['region', measure, std]\n",
    "   df[measure] = df[measure].round(1)\n",
    "   df[std] = df[std].round(1)\n",
    "   df['region'] = df['region'].str.strip()\n",
    "   df['region'] = df['region'].replace(d_translate)\n",
    "   d_data[v] = df\n",
    "   print(df.columns)\n",
    "   "
   ]
  },
  {
   "cell_type": "markdown",
   "id": "3f0051e6-bc66-4255-b043-aa595e5faf1a",
   "metadata": {},
   "source": [
    "# Putting together the dats with geojson with Spain communitie information"
   ]
  },
  {
   "cell_type": "code",
   "execution_count": null,
   "id": "254e6d50",
   "metadata": {},
   "outputs": [],
   "source": [
    "gdf = gpd.read_file(\n",
    "\"https://raw.githubusercontent.com/codeforgermany/click_that_hood/main/public/data/spain-communities.geojson\",\n",
    "crs=\"epsg:4326\"\n",
    ")\n",
    "gdf = gdf.rename(columns={'name':'region'})"
   ]
  },
  {
   "cell_type": "code",
   "execution_count": null,
   "id": "b0ce8e70",
   "metadata": {},
   "outputs": [],
   "source": [
    "for k,v in d_data.items():\n",
    "    gdf = gdf.join(v.set_index(\"region\"), \n",
    "               on=\"region\",\n",
    "               how='inner')"
   ]
  },
  {
   "cell_type": "code",
   "execution_count": null,
   "id": "3e3b6bb5",
   "metadata": {},
   "outputs": [],
   "source": [
    "l_coofficial  =  ['Cataluña',\n",
    " 'Baleares',\n",
    " 'Valencia',\n",
    " 'Navarra',\n",
    " 'Galicia',\n",
    " 'Pais Vasco']\n"
   ]
  },
  {
   "cell_type": "code",
   "execution_count": null,
   "id": "fce45109",
   "metadata": {},
   "outputs": [],
   "source": [
    "gdf['mean_f_score'] = ((gdf['mean_mathematics'] + gdf['mean_reading'] + gdf['mean_science'])/3.0).round(1)\n",
    "gdf['std_f_score'] = gdf.apply(lambda row:\n",
    "                            np.sqrt(row['std_mathematics']**2 +\n",
    "                                     row['std_reading']**2 + \n",
    "                                     row['std_science']**2),\n",
    "                                     axis = 1\n",
    "                                     ).round(1)\n",
    "gdf['n_languages'] = gdf['region'].apply(lambda x: 2 if x in l_coofficial else 1)"
   ]
  },
  {
   "cell_type": "code",
   "execution_count": null,
   "id": "b6292251",
   "metadata": {},
   "outputs": [],
   "source": [
    "gdf.groupby('n_languages')[['mean_mathematics',\n",
    "                            'mean_reading',\n",
    "                            'mean_science',\n",
    "                            'mean_f_score'\n",
    "                            ]].mean()"
   ]
  },
  {
   "cell_type": "markdown",
   "id": "320151df",
   "metadata": {},
   "source": [
    "My initial hypothesis was that having more than one official language would decrease the reading score. This data seems to be a good starting point to test this hypothesis."
   ]
  },
  {
   "cell_type": "code",
   "execution_count": null,
   "id": "569614d0",
   "metadata": {},
   "outputs": [],
   "source": [
    "import seaborn as sns"
   ]
  },
  {
   "cell_type": "code",
   "execution_count": null,
   "id": "b7bb3dd7",
   "metadata": {},
   "outputs": [],
   "source": [
    "sns.barplot(data=gdf.sort_values('mean_f_score'), x='region', y='mean_f_score')\n",
    "plt.xticks(rotation=90)\n"
   ]
  },
  {
   "cell_type": "markdown",
   "id": "c8039d73",
   "metadata": {},
   "source": [
    "# Merging with Population data\n",
    "Let's add the population to obtain weight average of scores instead of simple average."
   ]
  },
  {
   "cell_type": "code",
   "execution_count": null,
   "id": "f8b27902",
   "metadata": {},
   "outputs": [],
   "source": [
    "import requests\n",
    "from bs4 import BeautifulSoup\n",
    "url = \"https://es.wikipedia.org/wiki/Anexo:Comunidades_y_ciudades_aut%C3%B3nomas_de_Espa%C3%B1a\""
   ]
  },
  {
   "cell_type": "code",
   "execution_count": null,
   "id": "5536d921",
   "metadata": {},
   "outputs": [],
   "source": [
    "\n",
    "# Read the tables from the Wikipedia page\n",
    "tables = pd.read_html(url)\n",
    "\n",
    "# Select the desired table\n",
    "table_index = 0  # Index of the table you want to read\n",
    "df = tables[table_index]"
   ]
  },
  {
   "cell_type": "markdown",
   "id": "185abe60",
   "metadata": {},
   "source": [
    "Ceuta and Melilla are indeed the worst performing regions, let's remove then as outliers."
   ]
  },
  {
   "cell_type": "code",
   "execution_count": null,
   "id": "ac0bf958",
   "metadata": {},
   "outputs": [],
   "source": [
    "#remove accents\n",
    "df['Nombre'] = df['Nombre'].str.normalize('NFKD').str.encode('ascii', errors='ignore').str.decode('utf-8')\n",
    "df = df.rename(columns={'Nombre':'region'})"
   ]
  },
  {
   "cell_type": "code",
   "execution_count": null,
   "id": "e4d51bdd",
   "metadata": {},
   "outputs": [],
   "source": [
    "d_translate = {\"Comunidad Valenciana\": \"Valencia\",\n",
    "               \"Principado de Asturias\": \"Asturias\",\n",
    "               \"Comunidad de Madrid\": \"Madrid\",\n",
    "                \"Cataluna\": \"Cataluña\",\n",
    "               \"Islas Baleares\": \"Baleares\",\n",
    "               \"Castilla y Leon\": \"Castilla-Leon\",\n",
    "               \"Region de Murcia\": \"Murcia\",\n",
    "               \"Comunidad Foral de Navarra\": \"Navarra\",}"
   ]
  },
  {
   "cell_type": "code",
   "execution_count": null,
   "id": "97024f13",
   "metadata": {},
   "outputs": [],
   "source": [
    "df['region'] = df['region'].replace(d_translate)\n"
   ]
  },
  {
   "cell_type": "code",
   "execution_count": null,
   "id": "631931d2",
   "metadata": {},
   "outputs": [],
   "source": [
    "gdf = gdf.merge(df, on='region', how='left')"
   ]
  },
  {
   "cell_type": "code",
   "execution_count": null,
   "id": "f770673e",
   "metadata": {},
   "outputs": [],
   "source": [
    "#gdf = gdf[gdf['region'].apply(lambda x: x not in ['Ceuta','Melilla'])]\n"
   ]
  },
  {
   "cell_type": "markdown",
   "id": "7b79c772",
   "metadata": {},
   "source": [
    "We need the column \"Porcentaje Poblacion\" but we need to make sure we can convert it to float."
   ]
  },
  {
   "cell_type": "code",
   "execution_count": null,
   "id": "cda9d8eb",
   "metadata": {},
   "outputs": [],
   "source": [
    "gdf['weight'] = gdf['Porcentaje población'].str.replace('%','').str.replace(',','.').astype(float)/100.0"
   ]
  },
  {
   "cell_type": "code",
   "execution_count": null,
   "id": "386fe991",
   "metadata": {},
   "outputs": [],
   "source": [
    "gdf.groupby('n_languages')['weight'].sum().reset_index()"
   ]
  },
  {
   "cell_type": "code",
   "execution_count": null,
   "id": "64cc7751",
   "metadata": {},
   "outputs": [],
   "source": [
    "gdf['mean_f_score_weighted'] = gdf['mean_f_score']*gdf['weight']\n",
    "gdf['mean_reading_weighted'] = gdf['mean_reading']*gdf['weight']\n",
    "scores_per_language = gdf.groupby('n_languages')[['mean_reading_weighted','mean_f_score_weighted','weight']].sum()"
   ]
  },
  {
   "cell_type": "code",
   "execution_count": null,
   "id": "e53c3ca0",
   "metadata": {},
   "outputs": [],
   "source": [
    "scores_per_language"
   ]
  },
  {
   "cell_type": "code",
   "execution_count": null,
   "id": "b16ecd8a",
   "metadata": {},
   "outputs": [],
   "source": [
    "scores_per_language = scores_per_language.reset_index()\n",
    "scores_per_language['mean_reading_weighted'] = scores_per_language['mean_reading_weighted']/scores_per_language['weight']\n",
    "scores_per_language['mean_f_score_weighted'] = scores_per_language['mean_f_score_weighted']/scores_per_language['weight']"
   ]
  },
  {
   "cell_type": "code",
   "execution_count": null,
   "id": "83a3e1fd",
   "metadata": {},
   "outputs": [],
   "source": [
    "scores_per_language"
   ]
  },
  {
   "cell_type": "code",
   "execution_count": null,
   "id": "32c7c912",
   "metadata": {},
   "outputs": [],
   "source": [
    "(\n",
    "    scores_per_language['mean_reading_weighted'].iloc[0]-\n",
    "    scores_per_language['mean_reading_weighted'].iloc[1]\n",
    "    )/scores_per_language['mean_reading_weighted'].iloc[0]*100"
   ]
  },
  {
   "cell_type": "markdown",
   "id": "066d8e57",
   "metadata": {},
   "source": [
    "With 1.1% of diffference in scores I can say that the difference in scores between regions with one and two official languages is not statistically significant.\n",
    "\n",
    "My hypothesis was wrong!"
   ]
  },
  {
   "cell_type": "markdown",
   "id": "791ffefe",
   "metadata": {},
   "source": [
    "# Geographical Plot"
   ]
  },
  {
   "cell_type": "markdown",
   "id": "f62e32a3",
   "metadata": {},
   "source": [
    "continuous colors:\n",
    "aggrnyl     agsunset    blackbody   bluered     blues       blugrn      bluyl       brwnyl\n",
    "bugn        bupu        burg        burgyl      cividis     darkmint    electric    emrld\n",
    "gnbu        greens      greys       hot         inferno     jet         magenta     magma\n",
    "mint        orrd        oranges     oryel       peach       pinkyl      plasma      plotly3\n",
    "pubu        pubugn      purd        purp        purples     purpor      rainbow     rdbu\n",
    "rdpu        redor       reds        sunset      sunsetdark  teal        tealgrn     turbo\n",
    "viridis     ylgn        ylgnbu      ylorbr      ylorrd      algae       amp         deep\n",
    "dense       gray        haline      ice         matter      solar       speed       tempo\n",
    "thermal     turbid      armyrose    brbg        earth       fall        geyser      prgn\n",
    "piyg        picnic      portland    puor        rdgy        rdylbu      rdylgn      spectral\n",
    "tealrose    temps       tropic      balance     curl        delta       oxy         edge\n",
    "hsv         icefire     phase       twilight    mrybm       mygbm"
   ]
  },
  {
   "cell_type": "code",
   "execution_count": null,
   "id": "d74352f5",
   "metadata": {},
   "outputs": [],
   "source": [
    "\n",
    "px.choropleth_mapbox(\n",
    "    gdf, \n",
    "    geojson=gdf[\"geometry\"].__geo_interface__, \n",
    "    locations=gdf.index, \n",
    "    color=\"mean_reading\", \n",
    "    color_continuous_scale=\"tropic\",\n",
    "    hover_name=\"region\",\n",
    "    hover_data=[\"mean_f_score\",\"n_languages\",\n",
    "                \"mean_mathematics\",\"mean_reading\",\"mean_science\"],\n",
    "    labels = {'region': 'region',\n",
    "              \"n_languages\":\"Num. of off. lang.\",\n",
    "              'mean_f_score':'Mean PISA score',\n",
    "              'mean_mathematics':'Mean math score',\n",
    "              'mean_reading':'Mean reading score',\n",
    "              'mean_science':'Mean science score'\n",
    "              },\n",
    "    title='Mean PISA score by region',\n",
    ").update_layout(\n",
    "    mapbox={\n",
    "        \"style\": \"carto-positron\",\n",
    "        \"center\": {\n",
    "            \"lon\": -3.640774937362015,\n",
    "            \"lat\": 39.764566572736605,\n",
    "        },\n",
    "        \"zoom\":4\n",
    "    },\n",
    "    margin={\"l\":0,\"r\":0,\"t\":0,\"b\":0}\n",
    ")"
   ]
  },
  {
   "cell_type": "code",
   "execution_count": null,
   "id": "9709bacd",
   "metadata": {},
   "outputs": [],
   "source": []
  }
 ],
 "metadata": {
  "kernelspec": {
   "display_name": "Python 3 (ipykernel)",
   "language": "python",
   "name": "python3"
  },
  "language_info": {
   "codemirror_mode": {
    "name": "ipython",
    "version": 3
   },
   "file_extension": ".py",
   "mimetype": "text/x-python",
   "name": "python",
   "nbconvert_exporter": "python",
   "pygments_lexer": "ipython3",
   "version": "3.10.9"
  }
 },
 "nbformat": 4,
 "nbformat_minor": 5
}
