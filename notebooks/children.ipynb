{
 "cells": [
  {
   "cell_type": "markdown",
   "id": "1a78723d",
   "metadata": {},
   "source": [
    "# Imports"
   ]
  },
  {
   "cell_type": "code",
   "execution_count": null,
   "id": "f763bfdf-9b99-4c9c-8614-7446a89504c3",
   "metadata": {},
   "outputs": [],
   "source": [
    "import sys\n",
    "import pandas as pd\n",
    "import matplotlib.pyplot as plt\n",
    "\n",
    "path = '../src/'\n",
    "sys.path.append(path)\n"
   ]
  },
  {
   "cell_type": "code",
   "execution_count": null,
   "id": "decbf1e8-8eef-4d81-8f3c-cce50c50edea",
   "metadata": {},
   "outputs": [],
   "source": [
    "from lessdatamorestories import plot_slope"
   ]
  },
  {
   "cell_type": "markdown",
   "id": "19b394d5",
   "metadata": {},
   "source": [
    "# Initial Plot"
   ]
  },
  {
   "cell_type": "code",
   "execution_count": null,
   "id": "00e66ee7",
   "metadata": {},
   "outputs": [],
   "source": [
    "df = pd.read_csv('../data/census_hungary_children.csv', sep=';')"
   ]
  },
  {
   "cell_type": "code",
   "execution_count": null,
   "id": "666f39c5",
   "metadata": {},
   "outputs": [],
   "source": [
    "df"
   ]
  },
  {
   "cell_type": "code",
   "execution_count": null,
   "id": "665fdeda",
   "metadata": {},
   "outputs": [],
   "source": [
    "df.set_index('Year', inplace=True)"
   ]
  },
  {
   "cell_type": "code",
   "execution_count": null,
   "id": "6de1d568",
   "metadata": {},
   "outputs": [],
   "source": []
  },
  {
   "cell_type": "code",
   "execution_count": null,
   "id": "6b6889b5-550f-420b-8193-fb689c13b40b",
   "metadata": {},
   "outputs": [],
   "source": [
    "df.index.name = 'Year'\n",
    "df.index = df.index.astype(int)\n",
    "#df= df.rename({'Home Equity Line of Credit': 'HELOC'}, axis = 1)"
   ]
  },
  {
   "cell_type": "code",
   "execution_count": null,
   "id": "4525123e",
   "metadata": {},
   "outputs": [],
   "source": [
    "df"
   ]
  },
  {
   "cell_type": "code",
   "execution_count": null,
   "id": "b1328f4c",
   "metadata": {},
   "outputs": [],
   "source": [
    "df.columns = ['No children', '1-children', '2-children','Large family']"
   ]
  },
  {
   "cell_type": "code",
   "execution_count": null,
   "id": "c0aee9d0",
   "metadata": {},
   "outputs": [],
   "source": [
    "df.plot(kind='bar', stacked=False, figsize=(10, 6));"
   ]
  },
  {
   "cell_type": "markdown",
   "id": "612fd764",
   "metadata": {},
   "source": [
    "# Matplotlib settings"
   ]
  },
  {
   "cell_type": "code",
   "execution_count": null,
   "id": "2b4f7dc2",
   "metadata": {},
   "outputs": [],
   "source": [
    "fontsize=16\n",
    "font = {'family' : 'arial',\n",
    "        'weight' : 'normal',\n",
    "        'size'   : fontsize}\n",
    "\n",
    "plt.rc('font', **font)\n",
    "plt.rc('xtick', labelsize=fontsize)    # fontsize of the tick labels\n",
    "plt.rc('ytick', labelsize=fontsize) "
   ]
  },
  {
   "cell_type": "markdown",
   "id": "2c459714",
   "metadata": {},
   "source": []
  },
  {
   "cell_type": "markdown",
   "id": "346e3dd1-dfd1-4117-9cfd-4e4d5ee8fc46",
   "metadata": {},
   "source": [
    "# Plot Slope"
   ]
  },
  {
   "cell_type": "code",
   "execution_count": null,
   "id": "0da8aaf8",
   "metadata": {},
   "outputs": [],
   "source": [
    "config = {\n",
    "    'title1': \"Share of families by the number of children (2001-2022) in Hungary\",\n",
    "    'title2': \"Not having children has surpassed the Large family option in 2022.                                                                       \",\n",
    "    'highlight_column': 'No children',\n",
    "    'highlight_color': 'red',\n",
    "    'second_highlight_line': '2-children',\n",
    "    'filepath': '../images/fertility_hungary.png',\n",
    "    'ylim_bottom': 0.0,\n",
    "    'ylim_top': 55.0,\n",
    "    'xaxis_margin': 2,\n",
    "    'shift_left': 1,\n",
    "    'shift_up': 0.,\n",
    "    'start_label': False\n",
    "}"
   ]
  },
  {
   "cell_type": "code",
   "execution_count": null,
   "id": "bc089fdd",
   "metadata": {},
   "outputs": [],
   "source": [
    "plot_slope(df.iloc[2:,:], config)"
   ]
  },
  {
   "cell_type": "code",
   "execution_count": null,
   "id": "7b444148",
   "metadata": {},
   "outputs": [],
   "source": []
  }
 ],
 "metadata": {
  "kernelspec": {
   "display_name": "Python 3 (ipykernel)",
   "language": "python",
   "name": "python3"
  },
  "language_info": {
   "codemirror_mode": {
    "name": "ipython",
    "version": 3
   },
   "file_extension": ".py",
   "mimetype": "text/x-python",
   "name": "python",
   "nbconvert_exporter": "python",
   "pygments_lexer": "ipython3",
   "version": "3.10.9"
  }
 },
 "nbformat": 4,
 "nbformat_minor": 5
}
