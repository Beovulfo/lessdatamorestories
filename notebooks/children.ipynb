{
 "cells": [
  {
   "cell_type": "markdown",
   "id": "1a78723d",
   "metadata": {},
   "source": [
    "# Imports"
   ]
  },
  {
   "cell_type": "code",
   "execution_count": 1,
   "id": "f763bfdf-9b99-4c9c-8614-7446a89504c3",
   "metadata": {},
   "outputs": [],
   "source": [
    "import sys\n",
    "import pandas as pd\n",
    "import matplotlib.pyplot as plt\n",
    "\n",
    "path = '../src/'\n",
    "sys.path.append(path)\n"
   ]
  },
  {
   "cell_type": "code",
   "execution_count": 2,
   "id": "decbf1e8-8eef-4d81-8f3c-cce50c50edea",
   "metadata": {},
   "outputs": [],
   "source": [
    "from lessdatamorestories import plot_slope"
   ]
  },
  {
   "cell_type": "markdown",
   "id": "19b394d5",
   "metadata": {},
   "source": [
    "# Initial Plot"
   ]
  },
  {
   "cell_type": "code",
   "execution_count": 3,
   "id": "00e66ee7",
   "metadata": {},
   "outputs": [],
   "source": [
    "df = pd.read_csv('../data/census_hungary_children.csv', sep=';')"
   ]
  },
  {
   "cell_type": "code",
   "execution_count": 4,
   "id": "666f39c5",
   "metadata": {},
   "outputs": [
    {
     "data": {
      "text/html": [
       "<div>\n",
       "<style scoped>\n",
       "    .dataframe tbody tr th:only-of-type {\n",
       "        vertical-align: middle;\n",
       "    }\n",
       "\n",
       "    .dataframe tbody tr th {\n",
       "        vertical-align: top;\n",
       "    }\n",
       "\n",
       "    .dataframe thead th {\n",
       "        text-align: right;\n",
       "    }\n",
       "</style>\n",
       "<table border=\"1\" class=\"dataframe\">\n",
       "  <thead>\n",
       "    <tr style=\"text-align: right;\">\n",
       "      <th></th>\n",
       "      <th>Year</th>\n",
       "      <th>0</th>\n",
       "      <th>1</th>\n",
       "      <th>2</th>\n",
       "      <th>3-</th>\n",
       "    </tr>\n",
       "  </thead>\n",
       "  <tbody>\n",
       "    <tr>\n",
       "      <th>0</th>\n",
       "      <td>1980</td>\n",
       "      <td>10.216745</td>\n",
       "      <td>28.236774</td>\n",
       "      <td>41.898577</td>\n",
       "      <td>19.301479</td>\n",
       "    </tr>\n",
       "    <tr>\n",
       "      <th>1</th>\n",
       "      <td>1990</td>\n",
       "      <td>8.524715</td>\n",
       "      <td>21.960125</td>\n",
       "      <td>50.487498</td>\n",
       "      <td>18.922465</td>\n",
       "    </tr>\n",
       "    <tr>\n",
       "      <th>2</th>\n",
       "      <td>2001</td>\n",
       "      <td>7.944116</td>\n",
       "      <td>20.650651</td>\n",
       "      <td>50.377637</td>\n",
       "      <td>20.960195</td>\n",
       "    </tr>\n",
       "    <tr>\n",
       "      <th>3</th>\n",
       "      <td>2011</td>\n",
       "      <td>11.975804</td>\n",
       "      <td>25.533038</td>\n",
       "      <td>41.070286</td>\n",
       "      <td>21.354067</td>\n",
       "    </tr>\n",
       "    <tr>\n",
       "      <th>4</th>\n",
       "      <td>2022</td>\n",
       "      <td>20.421372</td>\n",
       "      <td>28.620330</td>\n",
       "      <td>32.692608</td>\n",
       "      <td>18.216589</td>\n",
       "    </tr>\n",
       "  </tbody>\n",
       "</table>\n",
       "</div>"
      ],
      "text/plain": [
       "   Year          0          1          2         3-\n",
       "0  1980  10.216745  28.236774  41.898577  19.301479\n",
       "1  1990   8.524715  21.960125  50.487498  18.922465\n",
       "2  2001   7.944116  20.650651  50.377637  20.960195\n",
       "3  2011  11.975804  25.533038  41.070286  21.354067\n",
       "4  2022  20.421372  28.620330  32.692608  18.216589"
      ]
     },
     "execution_count": 4,
     "metadata": {},
     "output_type": "execute_result"
    }
   ],
   "source": [
    "df"
   ]
  },
  {
   "cell_type": "code",
   "execution_count": 5,
   "id": "665fdeda",
   "metadata": {},
   "outputs": [],
   "source": [
    "df.set_index('Year', inplace=True)"
   ]
  },
  {
   "cell_type": "code",
   "execution_count": null,
   "id": "6de1d568",
   "metadata": {},
   "outputs": [],
   "source": []
  },
  {
   "cell_type": "code",
   "execution_count": 6,
   "id": "6b6889b5-550f-420b-8193-fb689c13b40b",
   "metadata": {},
   "outputs": [],
   "source": [
    "df.index.name = 'Year'\n",
    "df.index = df.index.astype(int)\n",
    "#df= df.rename({'Home Equity Line of Credit': 'HELOC'}, axis = 1)"
   ]
  },
  {
   "cell_type": "code",
   "execution_count": 7,
   "id": "4525123e",
   "metadata": {},
   "outputs": [
    {
     "data": {
      "text/html": [
       "<div>\n",
       "<style scoped>\n",
       "    .dataframe tbody tr th:only-of-type {\n",
       "        vertical-align: middle;\n",
       "    }\n",
       "\n",
       "    .dataframe tbody tr th {\n",
       "        vertical-align: top;\n",
       "    }\n",
       "\n",
       "    .dataframe thead th {\n",
       "        text-align: right;\n",
       "    }\n",
       "</style>\n",
       "<table border=\"1\" class=\"dataframe\">\n",
       "  <thead>\n",
       "    <tr style=\"text-align: right;\">\n",
       "      <th></th>\n",
       "      <th>0</th>\n",
       "      <th>1</th>\n",
       "      <th>2</th>\n",
       "      <th>3-</th>\n",
       "    </tr>\n",
       "    <tr>\n",
       "      <th>Year</th>\n",
       "      <th></th>\n",
       "      <th></th>\n",
       "      <th></th>\n",
       "      <th></th>\n",
       "    </tr>\n",
       "  </thead>\n",
       "  <tbody>\n",
       "    <tr>\n",
       "      <th>1980</th>\n",
       "      <td>10.216745</td>\n",
       "      <td>28.236774</td>\n",
       "      <td>41.898577</td>\n",
       "      <td>19.301479</td>\n",
       "    </tr>\n",
       "    <tr>\n",
       "      <th>1990</th>\n",
       "      <td>8.524715</td>\n",
       "      <td>21.960125</td>\n",
       "      <td>50.487498</td>\n",
       "      <td>18.922465</td>\n",
       "    </tr>\n",
       "    <tr>\n",
       "      <th>2001</th>\n",
       "      <td>7.944116</td>\n",
       "      <td>20.650651</td>\n",
       "      <td>50.377637</td>\n",
       "      <td>20.960195</td>\n",
       "    </tr>\n",
       "    <tr>\n",
       "      <th>2011</th>\n",
       "      <td>11.975804</td>\n",
       "      <td>25.533038</td>\n",
       "      <td>41.070286</td>\n",
       "      <td>21.354067</td>\n",
       "    </tr>\n",
       "    <tr>\n",
       "      <th>2022</th>\n",
       "      <td>20.421372</td>\n",
       "      <td>28.620330</td>\n",
       "      <td>32.692608</td>\n",
       "      <td>18.216589</td>\n",
       "    </tr>\n",
       "  </tbody>\n",
       "</table>\n",
       "</div>"
      ],
      "text/plain": [
       "              0          1          2         3-\n",
       "Year                                            \n",
       "1980  10.216745  28.236774  41.898577  19.301479\n",
       "1990   8.524715  21.960125  50.487498  18.922465\n",
       "2001   7.944116  20.650651  50.377637  20.960195\n",
       "2011  11.975804  25.533038  41.070286  21.354067\n",
       "2022  20.421372  28.620330  32.692608  18.216589"
      ]
     },
     "execution_count": 7,
     "metadata": {},
     "output_type": "execute_result"
    }
   ],
   "source": [
    "df"
   ]
  },
  {
   "cell_type": "code",
   "execution_count": 8,
   "id": "b1328f4c",
   "metadata": {},
   "outputs": [
    {
     "data": {
      "text/html": [
       "<div>\n",
       "<style scoped>\n",
       "    .dataframe tbody tr th:only-of-type {\n",
       "        vertical-align: middle;\n",
       "    }\n",
       "\n",
       "    .dataframe tbody tr th {\n",
       "        vertical-align: top;\n",
       "    }\n",
       "\n",
       "    .dataframe thead th {\n",
       "        text-align: right;\n",
       "    }\n",
       "</style>\n",
       "<table border=\"1\" class=\"dataframe\">\n",
       "  <thead>\n",
       "    <tr style=\"text-align: right;\">\n",
       "      <th></th>\n",
       "      <th>0</th>\n",
       "      <th>1</th>\n",
       "      <th>2</th>\n",
       "      <th>3-</th>\n",
       "    </tr>\n",
       "    <tr>\n",
       "      <th>Year</th>\n",
       "      <th></th>\n",
       "      <th></th>\n",
       "      <th></th>\n",
       "      <th></th>\n",
       "    </tr>\n",
       "  </thead>\n",
       "  <tbody>\n",
       "    <tr>\n",
       "      <th>1980</th>\n",
       "      <td>10.216745</td>\n",
       "      <td>28.236774</td>\n",
       "      <td>41.898577</td>\n",
       "      <td>19.301479</td>\n",
       "    </tr>\n",
       "    <tr>\n",
       "      <th>1990</th>\n",
       "      <td>8.524715</td>\n",
       "      <td>21.960125</td>\n",
       "      <td>50.487498</td>\n",
       "      <td>18.922465</td>\n",
       "    </tr>\n",
       "    <tr>\n",
       "      <th>2001</th>\n",
       "      <td>7.944116</td>\n",
       "      <td>20.650651</td>\n",
       "      <td>50.377637</td>\n",
       "      <td>20.960195</td>\n",
       "    </tr>\n",
       "    <tr>\n",
       "      <th>2011</th>\n",
       "      <td>11.975804</td>\n",
       "      <td>25.533038</td>\n",
       "      <td>41.070286</td>\n",
       "      <td>21.354067</td>\n",
       "    </tr>\n",
       "    <tr>\n",
       "      <th>2022</th>\n",
       "      <td>20.421372</td>\n",
       "      <td>28.620330</td>\n",
       "      <td>32.692608</td>\n",
       "      <td>18.216589</td>\n",
       "    </tr>\n",
       "  </tbody>\n",
       "</table>\n",
       "</div>"
      ],
      "text/plain": [
       "              0          1          2         3-\n",
       "Year                                            \n",
       "1980  10.216745  28.236774  41.898577  19.301479\n",
       "1990   8.524715  21.960125  50.487498  18.922465\n",
       "2001   7.944116  20.650651  50.377637  20.960195\n",
       "2011  11.975804  25.533038  41.070286  21.354067\n",
       "2022  20.421372  28.620330  32.692608  18.216589"
      ]
     },
     "execution_count": 8,
     "metadata": {},
     "output_type": "execute_result"
    }
   ],
   "source": [
    "df"
   ]
  },
  {
   "cell_type": "code",
   "execution_count": 9,
   "id": "c0aee9d0",
   "metadata": {},
   "outputs": [
    {
     "data": {
      "image/png": "[encoded data removed]",
      "text/plain": [
       "<Figure size 1000x600 with 1 Axes>"
      ]
     },
     "metadata": {},
     "output_type": "display_data"
    }
   ],
   "source": [
    "df.plot(kind='bar', stacked=False, figsize=(10, 6));"
   ]
  },
  {
   "cell_type": "markdown",
   "id": "612fd764",
   "metadata": {},
   "source": [
    "# Matplotlib settings"
   ]
  },
  {
   "cell_type": "code",
   "execution_count": 10,
   "id": "2b4f7dc2",
   "metadata": {},
   "outputs": [],
   "source": [
    "fontsize=16\n",
    "font = {'family' : 'arial',\n",
    "        'weight' : 'normal',\n",
    "        'size'   : fontsize}\n",
    "\n",
    "plt.rc('font', **font)\n",
    "plt.rc('xtick', labelsize=fontsize)    # fontsize of the tick labels\n",
    "plt.rc('ytick', labelsize=fontsize) "
   ]
  },
  {
   "cell_type": "markdown",
   "id": "2c459714",
   "metadata": {},
   "source": []
  },
  {
   "cell_type": "markdown",
   "id": "346e3dd1-dfd1-4117-9cfd-4e4d5ee8fc46",
   "metadata": {},
   "source": [
    "# Plot Slope"
   ]
  },
  {
   "cell_type": "code",
   "execution_count": 11,
   "id": "56c0fa14",
   "metadata": {},
   "outputs": [
    {
     "name": "stdout",
     "output_type": "stream",
     "text": [
      "\u001b[0;31mSignature:\u001b[0m \u001b[0mplot_slope\u001b[0m\u001b[0;34m(\u001b[0m\u001b[0mdf\u001b[0m\u001b[0;34m,\u001b[0m \u001b[0mconfig\u001b[0m\u001b[0;34m)\u001b[0m\u001b[0;34m\u001b[0m\u001b[0;34m\u001b[0m\u001b[0m\n",
      "\u001b[0;31mDocstring:\u001b[0m\n",
      "Plots slope lines for each column in the dataframe.\n",
      "\n",
      "Parameters:\n",
      "- df (pandas.DataFrame): The dataframe containing the data to be plotted.\n",
      "- config (dict): A dictionary containing the configuration parameters for the plot.\n",
      "\n",
      "Configuration Parameters:\n",
      "- title1 (str): The main title of the plot.\n",
      "- title2 (str): The subtitle of the plot.\n",
      "- shift_up (float, optional): The vertical shift of the labels. Default is 2.\n",
      "- shift_left (float, optional): The horizontal shift of the labels. Default is 0.5.\n",
      "- xaxis_margin (float, optional): The margin added to the x-axis limits. Default is 0.8.\n",
      "- highlight_column (str, optional): The column to highlight with a different color. Default is None.\n",
      "- ylim_bottom (float, optional): The lower limit of the y-axis. Default is 0.\n",
      "- ylim_top (float, optional): The upper limit of the y-axis. Default is 100.\n",
      "- second_highlight_line (str, optional): The column to highlight with a second color. Default is None.\n",
      "- second_highlight_color (str, optional): The color for the second highlighted line. Default is 'black'.\n",
      "- default_color (str, optional): The default color for the slope lines. Default is \"#bdbdbd\".\n",
      "- highlight_color (str, optional): The color for the highlighted line. Default is \"#4D77B1\".\n",
      "- filepath (str, optional): The file path to save the plot. Default is False.\n",
      "\n",
      "Returns:\n",
      "None\n",
      "\u001b[0;31mFile:\u001b[0m      ~/Documents/data_storytelling/src/lessdatamorestories.py\n",
      "\u001b[0;31mType:\u001b[0m      function\n"
     ]
    }
   ],
   "source": [
    "plot_slope?"
   ]
  },
  {
   "cell_type": "code",
   "execution_count": 13,
   "id": "0da8aaf8",
   "metadata": {},
   "outputs": [],
   "source": [
    "config = {\n",
    "    'title1': \"Share of middle age families by the number of children (2001-2022) in Hungary\",\n",
    "    'title2': \"Almost 20% drop on 2 children. Having no children (0) has surpassed the Large families (3 or more children) in 2022.\",\n",
    "    'highlight_column': '0',\n",
    "    'highlight_color': 'red',\n",
    "    'second_highlight_line': '2',\n",
    "    'filepath': '../images/fertility_hungary.png',\n",
    "    'ylim_bottom': 0.0,\n",
    "    'ylim_top': 55.0,\n",
    "    'xaxis_margin': 2,\n",
    "    'shift_left': 1,\n",
    "    'shift_up': 0.3\n",
    "}"
   ]
  },
  {
   "cell_type": "code",
   "execution_count": 14,
   "id": "bc089fdd",
   "metadata": {},
   "outputs": [
    {
     "data": {
      "image/png": "[encoded data removed]",
      "text/plain": [
       "<Figure size 1000x800 with 1 Axes>"
      ]
     },
     "metadata": {},
     "output_type": "display_data"
    }
   ],
   "source": [
    "plot_slope(df.iloc[2:,:], config)"
   ]
  },
  {
   "cell_type": "code",
   "execution_count": null,
   "id": "7b444148",
   "metadata": {},
   "outputs": [],
   "source": []
  }
 ],
 "metadata": {
  "kernelspec": {
   "display_name": "Python 3 (ipykernel)",
   "language": "python",
   "name": "python3"
  },
  "language_info": {
   "codemirror_mode": {
    "name": "ipython",
    "version": 3
   },
   "file_extension": ".py",
   "mimetype": "text/x-python",
   "name": "python",
   "nbconvert_exporter": "python",
   "pygments_lexer": "ipython3",
   "version": "3.10.9"
  }
 },
 "nbformat": 4,
 "nbformat_minor": 5
}
