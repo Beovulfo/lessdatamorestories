{
 "cells": [
  {
   "cell_type": "markdown",
   "id": "61697152",
   "metadata": {},
   "source": [
    "# Imports"
   ]
  },
  {
   "cell_type": "code",
   "execution_count": null,
   "id": "228eba40",
   "metadata": {},
   "outputs": [],
   "source": [
    "import sys\n",
    "import pandas as pd\n",
    "\n",
    "path = '../src/'\n",
    "sys.path.append(path)"
   ]
  },
  {
   "cell_type": "code",
   "execution_count": null,
   "id": "3bbcec8b",
   "metadata": {},
   "outputs": [],
   "source": [
    "from lessdatamorestories import plot_grouped_barplot\n",
    "from utils_ldms import get_seniority_level"
   ]
  },
  {
   "cell_type": "markdown",
   "id": "24d003b1",
   "metadata": {},
   "source": [
    "# Reading the data"
   ]
  },
  {
   "cell_type": "code",
   "execution_count": null,
   "id": "6b6889b5-550f-420b-8193-fb689c13b40b",
   "metadata": {},
   "outputs": [],
   "source": [
    "df = pd.read_csv('../data/earnings.csv')"
   ]
  },
  {
   "cell_type": "markdown",
   "id": "3f0051e6-bc66-4255-b043-aa595e5faf1a",
   "metadata": {},
   "source": [
    "# Feature engineering"
   ]
  },
  {
   "cell_type": "code",
   "execution_count": null,
   "id": "9a46b97a-94e7-48ae-ba70-7215da99fd19",
   "metadata": {},
   "outputs": [],
   "source": [
    "df['Seniority level'] = df['experience'].apply(lambda x: get_seniority_level(x))"
   ]
  },
  {
   "cell_type": "code",
   "execution_count": null,
   "id": "6e4148f0-6d00-4178-83bb-282aa5543fb7",
   "metadata": {},
   "outputs": [],
   "source": [
    "df_grouped = df.groupby(['field','Seniority level'])['earnings'].mean().reset_index()"
   ]
  },
  {
   "cell_type": "code",
   "execution_count": null,
   "id": "075cfb7e",
   "metadata": {},
   "outputs": [],
   "source": [
    "config = {\n",
    "    'x':'Seniority level',\n",
    "    'y':'earnings',\n",
    "    'hue':'field',\n",
    "    'hue_order':['Creative','Technical','Management'],\n",
    "    'order':['Junior','Mid','Senior', 'Expert'],\n",
    "    'xlabel':'Seniority level',\n",
    "    'ylabel':'Mean Earnings(€) ',\n",
    "    'palette':{\"Creative\": 'red', \"Technical\": \"grey\", \"Management\": \"k\"},\n",
    "    'filepath':'../images/grouped_barplot.png'\n",
    "}\n",
    "plot_grouped_barplot(df_grouped, config)"
   ]
  },
  {
   "cell_type": "code",
   "execution_count": null,
   "id": "346e3dd1-dfd1-4117-9cfd-4e4d5ee8fc46",
   "metadata": {},
   "outputs": [],
   "source": []
  }
 ],
 "metadata": {
  "kernelspec": {
   "display_name": "Python 3 (ipykernel)",
   "language": "python",
   "name": "python3"
  },
  "language_info": {
   "codemirror_mode": {
    "name": "ipython",
    "version": 3
   },
   "file_extension": ".py",
   "mimetype": "text/x-python",
   "name": "python",
   "nbconvert_exporter": "python",
   "pygments_lexer": "ipython3",
   "version": "3.10.9"
  }
 },
 "nbformat": 4,
 "nbformat_minor": 5
}
